{
  "nbformat": 4,
  "nbformat_minor": 0,
  "metadata": {
    "colab": {
      "provenance": [],
      "authorship_tag": "ABX9TyN2/vh76NnlWeYDb8bgNe8y",
      "include_colab_link": true
    },
    "kernelspec": {
      "name": "python3",
      "display_name": "Python 3"
    },
    "language_info": {
      "name": "python"
    }
  },
  "cells": [
    {
      "cell_type": "markdown",
      "metadata": {
        "id": "view-in-github",
        "colab_type": "text"
      },
      "source": [
        "<a href=\"https://colab.research.google.com/github/lszam/procimg/blob/main/retirar_rotulos_lines_ties_e_criar_csv.ipynb\" target=\"_parent\"><img src=\"https://colab.research.google.com/assets/colab-badge.svg\" alt=\"Open In Colab\"/></a>"
      ]
    },
    {
      "cell_type": "markdown",
      "source": [
        "Rotina para retirar nomes de ties e lines de arquivos XYZ obtidos do SGB-CPRM\n",
        "-----------------------------------------------------------------------------\n",
        "\n",
        "\n"
      ],
      "metadata": {
        "id": "fqn7DlVRPYy4"
      }
    },
    {
      "cell_type": "code",
      "source": [
        "# Rotina para retirar nomes de ties e lines de arquivos XYZ obtidos do SGB-CPRM\n",
        "# -----------------------------------------------------------------------------\n",
        "\n",
        "import csv\n",
        "\n",
        "# Arquivo original\n",
        "input_file = \"1123_GravTie.XYZ\"\n",
        "\n",
        "output_csv_file = \"1123_GravTie.csv\" # arquivo de saída (.csv)\n",
        "\n",
        "# Lista para armazenar as linhas limpas\n",
        "clean_lines = []\n",
        "column_names = []\n",
        "\n",
        "# Flag para indicar se a linha de cabeçalho foi encontrada\n",
        "header_found = False\n",
        "\n",
        "# Lendo o arquivo e removendo rótulos indesejados\n",
        "with open(input_file, \"r\", encoding=\"utf-8\") as f:\n",
        "    lines = f.readlines()\n",
        "    for i, line in enumerate(lines):\n",
        "        if \"===\" in line and not header_found:\n",
        "            header_line = lines[i-1].strip()\n",
        "            if header_line.startswith(\"/\"):\n",
        "                column_names = [name.strip() for name in header_line[1:].split()]\n",
        "                header_found = True\n",
        "        elif not line.startswith(\"/\") and not line.startswith(\"Line \") and not line.startswith(\"Tie \"):\n",
        "            clean_lines.append(line)\n",
        "\n",
        "# Imprimir os nomes das colunas\n",
        "print(\"Nomes de colunas encontrados:\", column_names)\n",
        "\n",
        "# Criando o arquivo CSV\n",
        "with open(output_csv_file, \"w\", newline=\"\", encoding=\"utf-8\") as csvfile:\n",
        "    writer = csv.writer(csvfile)\n",
        "\n",
        "    # Escrevendo o cabeçalho no CSV\n",
        "    writer.writerow(column_names)\n",
        "\n",
        "    # Escrevendo os dados no CSV\n",
        "    writer.writerows([line.strip().split() for line in clean_lines]) #Corrigido para usar split() corretamente.\n",
        "\n",
        "#Agora, ao invés de um arquivo de saída modificado, criamos um arquivo CSV a partir dos dados limpos.\n",
        "print(f\"Arquivo CSV criado: {output_csv_file}\")\n"
      ],
      "metadata": {
        "colab": {
          "base_uri": "https://localhost:8080/"
        },
        "id": "QfWbIrdyTyNX",
        "outputId": "4aad22ad-0474-4f3d-8707-b9004fbfd651"
      },
      "execution_count": 1,
      "outputs": [
        {
          "output_type": "stream",
          "name": "stdout",
          "text": [
            "Nomes das colunas: ['X', 'Y', 'LONGITUDE', 'LATITUDE', 'DATA', 'HORA', 'FIDUCIAL', 'BOUG', 'FA_ADJ', 'FA_OBS', 'OBS_G', 'NORM_G', 'EOTVOS', 'CORTER', 'H_ORT', 'ALTURA', 'ALTBAR', 'ALTTER', 'GPSALT', '__X', '__Y']\n",
            "Arquivo CSV criado: 1123_GravTie.csv\n"
          ]
        }
      ]
    }
  ]
}